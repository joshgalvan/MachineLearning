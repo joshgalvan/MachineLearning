{
 "cells": [
  {
   "cell_type": "code",
   "execution_count": 4,
   "metadata": {},
   "outputs": [],
   "source": [
    "import numpy as np"
   ]
  },
  {
   "cell_type": "code",
   "execution_count": 8,
   "metadata": {},
   "outputs": [],
   "source": [
    "class MLP:\n",
    "    # Constructor\n",
    "    # For num_hidden=[3, 5]. Two layers where the first layer has 3 neurons, and the second layer has 5 neurons.\n",
    "    def __init__(self, num_inputs=3, num_hidden=[3, 5], num_outputs=2):\n",
    "        self.num_inputs = num_inputs\n",
    "        self.num_hidden = num_hidden\n",
    "        self.num_outputs = num_outputs\n",
    "\n",
    "        layers = [self.num_inputs] + self.num_hidden + [self.num_outputs]\n",
    "        \n",
    "        self.weights = []\n",
    "        for i in range(len(layers)-1):\n",
    "            w = np.random.rand(layers[i], layers[i+1])\n",
    "            self.weights.append(w)\n",
    "            \n",
    "    def _sigmoid(self, x):\n",
    "        return 1 / (1 + np.exp(-x))\n",
    "    \n",
    "    def forward_propagate(self, inputs):\n",
    "        # For the first layer, the activations are just the given inputs.\n",
    "        activations = inputs\n",
    "        \n",
    "        for w in self.weights:\n",
    "            # Calculate net inputs for a given layer.\n",
    "            net_inputs = np.dot(activations, w)\n",
    "            \n",
    "            # Calculate the activations for a given layer.\n",
    "            activations = self._sigmoid(net_inputs)\n",
    "            \n",
    "        return activations"
   ]
  },
  {
   "cell_type": "code",
   "execution_count": 11,
   "metadata": {},
   "outputs": [
    {
     "name": "stdout",
     "output_type": "stream",
     "text": [
      "The network input is: [0.69922911 0.97649779 0.16327446 0.14424624 0.08154614 0.98743316]\n",
      "The network output is: [0.98859788 0.944841   0.9758498  0.92753939]\n"
     ]
    }
   ],
   "source": [
    "# Create an MLP\n",
    "mlp = MLP(6, [8, 8, 8], 4)\n",
    "\n",
    "# Create some inputs\n",
    "inputs = np.random.rand(mlp.num_inputs)\n",
    "\n",
    "# Perform forward propagation\n",
    "outputs = mlp.forward_propagate(inputs)\n",
    "\n",
    "# Print the results\n",
    "print(f\"The network input is: {inputs}\")\n",
    "print(f\"The network output is: {outputs}\")"
   ]
  }
 ],
 "metadata": {
  "kernelspec": {
   "display_name": "Python 3.7.13 ('nlp')",
   "language": "python",
   "name": "python3"
  },
  "language_info": {
   "codemirror_mode": {
    "name": "ipython",
    "version": 3
   },
   "file_extension": ".py",
   "mimetype": "text/x-python",
   "name": "python",
   "nbconvert_exporter": "python",
   "pygments_lexer": "ipython3",
   "version": "3.7.13"
  },
  "orig_nbformat": 4,
  "vscode": {
   "interpreter": {
    "hash": "da41b803749172fb30e9aa3573affad5b13216880ab231d4dc304fc61cc58ef1"
   }
  }
 },
 "nbformat": 4,
 "nbformat_minor": 2
}
