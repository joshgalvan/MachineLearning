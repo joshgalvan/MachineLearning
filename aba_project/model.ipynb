{
 "cells": [
  {
   "cell_type": "code",
   "execution_count": 2,
   "metadata": {},
   "outputs": [],
   "source": [
    "import tensorflow as tf\n",
    "from tensorflow.keras import datasets, layers, models\n",
    "from tensorflow.keras.optimizers import RMSprop\n",
    "from sklearn.model_selection import train_test_split\n",
    "from sklearn.utils import shuffle\n",
    "from keras.initializers import glorot_uniform\n",
    "from imblearn.over_sampling import SMOTE\n",
    "import keras.backend as K\n",
    "import numpy as np\n",
    "import matplotlib.pyplot as plt\n",
    "import librosa\n",
    "import os\n",
    "import json"
   ]
  },
  {
   "cell_type": "code",
   "execution_count": 3,
   "metadata": {},
   "outputs": [],
   "source": [
    "SAMPLE_RATE = 48000 # 48kHz\n",
    "DATASET_PATH = \"../../ABA-Audio-Data/Labelled/\"\n",
    "JSON_PATH = \"../../ABA-Audio-Data/data.json\"\n",
    "MELSPECT_OR_MFCC = \"melspect\" # Choose \"melspect\" or \"mfcc\" for train on either data type.\n",
    "N_MFCC = 25"
   ]
  },
  {
   "cell_type": "code",
   "execution_count": 4,
   "metadata": {},
   "outputs": [
    {
     "name": "stdout",
     "output_type": "stream",
     "text": [
      "Currently processing label: none\n",
      "Working file path: ../../ABA-Audio-Data/Labelled/none\\10chunk100.wav 0\n",
      "Working file path: ../../ABA-Audio-Data/Labelled/none\\16chunk130.wav 750\n",
      "Working file path: ../../ABA-Audio-Data/Labelled/none\\1chunk1210.wav 1500\n",
      "Working file path: ../../ABA-Audio-Data/Labelled/none\\1chunk1887.wav 2250\n",
      "Working file path: ../../ABA-Audio-Data/Labelled/none\\1chunk2566.wav 3000\n",
      "Working file path: ../../ABA-Audio-Data/Labelled/none\\1chunk687.wav 3750\n",
      "Working file path: ../../ABA-Audio-Data/Labelled/none\\22chunk100.wav 4500\n",
      "Working file path: ../../ABA-Audio-Data/Labelled/none\\3chunk81.wav 5250\n",
      "Working file path: ../../ABA-Audio-Data/Labelled/none\\7chunk44.wav 6000\n",
      "6582\n",
      "Currently processing label: whine\n",
      "Working file path: ../../ABA-Audio-Data/Labelled/whine\\10chunk0.wav 0\n",
      "Working file path: ../../ABA-Audio-Data/Labelled/whine\\16chunk183.wav 750\n",
      "988\n",
      "DONE\n"
     ]
    }
   ],
   "source": [
    "# This structure is used to save and export the data.\n",
    "data = {\n",
    "    # Mapping the different genre lables onto numbers.\n",
    "    \"mapping\": [],\n",
    "    \n",
    "    # Either the MFCC data or the MELSPECT data, depending on mode.\n",
    "    \"all_audio\": [],\n",
    "    \n",
    "    # The targets. Each value in \"labels\" refers to the index of the\n",
    "    # \"labels\" list. \n",
    "    \"labels\": []\n",
    "}\n",
    "\n",
    "for i, (dirpath, dirnames, filenames) in enumerate(os.walk(DATASET_PATH)):\n",
    "    if dirpath is not DATASET_PATH:\n",
    "        # This gives us dirpath ~/none and ~/whine.\n",
    "        dirpath_components = dirpath.split('/')\n",
    "        label = dirpath_components[-1]\n",
    "        data[\"mapping\"].append(label)\n",
    "        print(f\"Currently processing label: {label}\")\n",
    "        \n",
    "        for j, file in enumerate(filenames):\n",
    "            # Load audio file.\n",
    "            file_path = os.path.join(dirpath, file)\n",
    "            signal, sr = librosa.load(file_path, sr=SAMPLE_RATE)\n",
    "            \n",
    "            # The last second of the video is usually not a full second, and therefore produces\n",
    "            # an nparray that is abnormal in shape to the rest of the arrays. All the arrays\n",
    "            # need to be the same shape, this pads the abnormal arrays with empty data.\n",
    "            if (len(signal) < SAMPLE_RATE):\n",
    "                signal = np.pad(signal, (0, SAMPLE_RATE-len(signal)))\n",
    "                if (signal.shape != (48000,)):\n",
    "                    print(\"Error, bad signal shape.\")\n",
    "            \n",
    "            if (MELSPECT_OR_MFCC == \"melspect\"):\n",
    "                curr_melspect = librosa.feature.melspectrogram(y=signal)\n",
    "                data[\"all_audio\"].append(curr_melspect.tolist())\n",
    "            elif (MELSPECT_OR_MFCC == \"mfcc\"):\n",
    "                curr_mfcc = librosa.feature.mfcc(y=signal, sr=SAMPLE_RATE, n_mfcc=N_MFCC)\n",
    "                curr_mfcc = curr_mfcc.T\n",
    "                data[\"all_audio\"].append(curr_mfcc.tolist())\n",
    "            else:\n",
    "                exit('Set MELSPECT_OR_MFCC to either \"melspect\" or \"mfcc\".')\n",
    "            \n",
    "            data[\"labels\"].append(i-1)\n",
    "            \n",
    "            if (j % 750 == 0):\n",
    "                print(f\"Working file path: {file_path} {j}\")\n",
    "            \n",
    "            final = j\n",
    "        else:\n",
    "            print(final)\n",
    "\n",
    "print(\"DONE\")"
   ]
  },
  {
   "cell_type": "code",
   "execution_count": 5,
   "metadata": {},
   "outputs": [],
   "source": [
    "with open(JSON_PATH, \"w\") as fp:\n",
    "    json.dump(data, fp, indent=4)"
   ]
  },
  {
   "cell_type": "code",
   "execution_count": 6,
   "metadata": {},
   "outputs": [
    {
     "name": "stdout",
     "output_type": "stream",
     "text": [
      "(128, 94)\n"
     ]
    }
   ],
   "source": [
    "# Use the output of this statment for the input of \"input_shape\" in the first\n",
    "# Conv2D layer in the model blow with an added 3rd dimension, like (x, y, 1).\n",
    "print(np.array(data[\"all_audio\"][0]).shape)"
   ]
  },
  {
   "cell_type": "code",
   "execution_count": 7,
   "metadata": {},
   "outputs": [],
   "source": [
    "X = np.array(data[\"all_audio\"])\n",
    "y = np.array(data[\"labels\"])\n",
    "X, y = shuffle(X, y)"
   ]
  },
  {
   "cell_type": "code",
   "execution_count": 8,
   "metadata": {},
   "outputs": [
    {
     "name": "stdout",
     "output_type": "stream",
     "text": [
      "Model: \"sequential\"\n",
      "_________________________________________________________________\n",
      " Layer (type)                Output Shape              Param #   \n",
      "=================================================================\n",
      " conv2d (Conv2D)             (None, 126, 92, 32)       320       \n",
      "                                                                 \n",
      " max_pooling2d (MaxPooling2D  (None, 63, 46, 32)       0         \n",
      " )                                                               \n",
      "                                                                 \n",
      " conv2d_1 (Conv2D)           (None, 61, 44, 64)        18496     \n",
      "                                                                 \n",
      " max_pooling2d_1 (MaxPooling  (None, 30, 22, 64)       0         \n",
      " 2D)                                                             \n",
      "                                                                 \n",
      " conv2d_2 (Conv2D)           (None, 28, 20, 64)        36928     \n",
      "                                                                 \n",
      " flatten (Flatten)           (None, 35840)             0         \n",
      "                                                                 \n",
      " dense (Dense)               (None, 64)                2293824   \n",
      "                                                                 \n",
      " dense_1 (Dense)             (None, 1)                 65        \n",
      "                                                                 \n",
      "=================================================================\n",
      "Total params: 2,349,633\n",
      "Trainable params: 2,349,633\n",
      "Non-trainable params: 0\n",
      "_________________________________________________________________\n"
     ]
    }
   ],
   "source": [
    "X_train, X_test, y_train, y_test = train_test_split(X,\n",
    "                                                    y,\n",
    "                                                    test_size=0.5)\n",
    "\n",
    "X_val, X_test, y_val, y_test = train_test_split(X_test,\n",
    "                                                y_test,\n",
    "                                                test_size=0.10)\n",
    "\n",
    "model = models.Sequential()\n",
    "model.add(layers.Conv2D(32, (3, 3), activation='relu', input_shape=(128, 94, 1)))\n",
    "model.add(layers.MaxPooling2D((2, 2)))\n",
    "model.add(layers.Conv2D(64, (3, 3), activation='relu'))\n",
    "model.add(layers.MaxPooling2D(2, 2))\n",
    "model.add(layers.Conv2D(64, (3, 3), activation='relu'))\n",
    "\n",
    "model.add(layers.Flatten())\n",
    "model.add(layers.Dense(64, activation='relu'))\n",
    "model.add(layers.Dense(1, activation='sigmoid'))\n",
    "\n",
    "model.summary()\n"
   ]
  },
  {
   "cell_type": "code",
   "execution_count": 9,
   "metadata": {},
   "outputs": [
    {
     "name": "stdout",
     "output_type": "stream",
     "text": [
      "(3786, 128, 94)\n",
      "(3786,)\n"
     ]
    }
   ],
   "source": [
    "print(X_train.shape)\n",
    "print(y_train.shape)"
   ]
  },
  {
   "cell_type": "code",
   "execution_count": 10,
   "metadata": {},
   "outputs": [],
   "source": [
    "# Reset Weights and Biases of model for retraining.\n",
    "for i, layer in enumerate(model.layers):\n",
    "    if hasattr(model.layers[i], 'kernel_initializer') and \\\n",
    "            hasattr(model.layers[i], 'bias_initializer'):\n",
    "        weight_initializer = model.layers[i].kernel_initializer\n",
    "        bias_initializer = model.layers[i].bias_initializer\n",
    "        \n",
    "        old_weights, old_biases = model.layers[i].get_weights()\n",
    "        \n",
    "        model.layers[i].set_weights([\n",
    "            weight_initializer(shape=old_weights.shape),\n",
    "            bias_initializer(shape=old_biases.shape)\n",
    "        ])"
   ]
  },
  {
   "cell_type": "code",
   "execution_count": 11,
   "metadata": {},
   "outputs": [
    {
     "name": "stdout",
     "output_type": "stream",
     "text": [
      "Epoch 1/10\n",
      "119/119 [==============================] - 24s 183ms/step - loss: 2.2153 - accuracy: 0.8584 - val_loss: 0.6466 - val_accuracy: 0.8685\n",
      "Epoch 2/10\n",
      "119/119 [==============================] - 19s 160ms/step - loss: 0.4620 - accuracy: 0.8685 - val_loss: 0.5433 - val_accuracy: 0.8685\n",
      "Epoch 3/10\n",
      "119/119 [==============================] - 21s 173ms/step - loss: 0.4258 - accuracy: 0.8700 - val_loss: 0.4813 - val_accuracy: 0.8632\n",
      "Epoch 4/10\n",
      "119/119 [==============================] - 19s 161ms/step - loss: 0.4793 - accuracy: 0.8645 - val_loss: 0.3670 - val_accuracy: 0.8703\n",
      "Epoch 5/10\n",
      "119/119 [==============================] - 21s 174ms/step - loss: 0.3718 - accuracy: 0.8716 - val_loss: 0.3760 - val_accuracy: 0.8697\n",
      "Epoch 6/10\n",
      "119/119 [==============================] - 21s 174ms/step - loss: 0.3489 - accuracy: 0.8716 - val_loss: 0.4121 - val_accuracy: 0.8688\n",
      "Epoch 7/10\n",
      "119/119 [==============================] - 22s 188ms/step - loss: 0.2967 - accuracy: 0.8724 - val_loss: 0.3135 - val_accuracy: 0.8706\n",
      "Epoch 8/10\n",
      "119/119 [==============================] - 20s 169ms/step - loss: 0.3446 - accuracy: 0.8666 - val_loss: 0.3305 - val_accuracy: 0.8700\n",
      "Epoch 9/10\n",
      "119/119 [==============================] - 21s 175ms/step - loss: 0.3274 - accuracy: 0.8730 - val_loss: 0.2700 - val_accuracy: 0.8706\n",
      "Epoch 10/10\n",
      "119/119 [==============================] - 20s 169ms/step - loss: 0.2857 - accuracy: 0.8637 - val_loss: 0.2883 - val_accuracy: 0.8711\n"
     ]
    }
   ],
   "source": [
    "model.compile(loss='binary_crossentropy',\n",
    "              optimizer=RMSprop(learning_rate=0.01),\n",
    "              metrics='accuracy')\n",
    "\n",
    "history = model.fit(X_train, y_train, epochs=10, validation_data=(X_val, y_val))"
   ]
  },
  {
   "cell_type": "code",
   "execution_count": 12,
   "metadata": {},
   "outputs": [
    {
     "name": "stderr",
     "output_type": "stream",
     "text": [
      "WARNING:absl:Found untraced functions such as _jit_compiled_convolution_op, _jit_compiled_convolution_op, _jit_compiled_convolution_op while saving (showing 3 of 3). These functions will not be directly callable after loading.\n"
     ]
    },
    {
     "name": "stdout",
     "output_type": "stream",
     "text": [
      "INFO:tensorflow:Assets written to: whine-cry.model\\assets\n"
     ]
    },
    {
     "name": "stderr",
     "output_type": "stream",
     "text": [
      "INFO:tensorflow:Assets written to: whine-cry.model\\assets\n"
     ]
    }
   ],
   "source": [
    "model.save('whine-cry.model')"
   ]
  },
  {
   "cell_type": "code",
   "execution_count": 13,
   "metadata": {},
   "outputs": [
    {
     "name": "stdout",
     "output_type": "stream",
     "text": [
      "12/12 - 1s - loss: 0.4421 - accuracy: 0.8391 - 745ms/epoch - 62ms/step\n"
     ]
    },
    {
     "data": {
      "image/png": "[encoded data removed]",
      "text/plain": [
       "<Figure size 640x480 with 1 Axes>"
      ]
     },
     "metadata": {},
     "output_type": "display_data"
    }
   ],
   "source": [
    "plt.plot(history.history['accuracy'], label='accuracy')\n",
    "plt.plot(history.history['val_accuracy'], label='val_accuracy')\n",
    "plt.xlabel('Epoch')\n",
    "plt.ylabel('Accuracy')\n",
    "plt.ylim(0.8, .88)\n",
    "plt.legend(loc='lower right')\n",
    "\n",
    "test_loss, test_acc = model.evaluate(X_test, y_test, verbose=2)"
   ]
  }
 ],
 "metadata": {
  "kernelspec": {
   "display_name": "Python 3.7.13 ('nlp')",
   "language": "python",
   "name": "python3"
  },
  "language_info": {
   "codemirror_mode": {
    "name": "ipython",
    "version": 3
   },
   "file_extension": ".py",
   "mimetype": "text/x-python",
   "name": "python",
   "nbconvert_exporter": "python",
   "pygments_lexer": "ipython3",
   "version": "3.7.13"
  },
  "orig_nbformat": 4,
  "vscode": {
   "interpreter": {
    "hash": "da41b803749172fb30e9aa3573affad5b13216880ab231d4dc304fc61cc58ef1"
   }
  }
 },
 "nbformat": 4,
 "nbformat_minor": 2
}
